{
 "cells": [
  {
   "cell_type": "markdown",
   "id": "b62e47e6",
   "metadata": {},
   "source": [
    "### Numpy 数组基础知识"
   ]
  },
  {
   "cell_type": "markdown",
   "id": "6d5b8c09",
   "metadata": {},
   "source": [
    "#### 1. 数组创建"
   ]
  },
  {
   "cell_type": "code",
   "execution_count": 3,
   "id": "initial_id",
   "metadata": {
    "ExecuteTime": {
     "end_time": "2024-05-06T09:49:33.665822800Z",
     "start_time": "2024-05-06T09:49:31.953675Z"
    },
    "collapsed": true
   },
   "outputs": [
    {
     "name": "stdout",
     "output_type": "stream",
     "text": [
      "创建的一维数组为: [1 2 3 4 5]\n",
      "创建的二维数组为:\n",
      " [[ 1  2  3  4  5]\n",
      " [ 6  7  8  9 10]\n",
      " [11 12 13 14 15]]\n"
     ]
    }
   ],
   "source": [
    "#创建一维和二维数组，观察数组的属性，改变数组的形状\n",
    "import numpy as np \n",
    "\n",
    "#创建一维数组，元素间用逗号隔开，所有元素放在一个[]里\n",
    "arr1 = np.array([1, 2, 3, 4, 5]) \n",
    "print('创建的一维数组为:', arr1)#打印的字符要用单引号或双引号引起来\n",
    "\n",
    "#创建二维数组,元素间用逗号隔开，每行用[]括起来，不同行用逗号隔开\n",
    "arr2 = np.array([[1, 2, 3, 4, 5],[6, 7, 8, 9, 10], [11, 12, 13, 14, 15]])\n",
    "print('创建的二维数组为:\\n',arr2)"
   ]
  },
  {
   "cell_type": "markdown",
   "id": "501d9f56",
   "metadata": {},
   "source": [
    "#### 2. 数组属性"
   ]
  },
  {
   "cell_type": "code",
   "execution_count": null,
   "id": "ff73e53f067da3c4",
   "metadata": {
    "ExecuteTime": {
     "end_time": "2024-05-06T09:49:33.770134500Z",
     "start_time": "2024-05-06T09:49:33.675201800Z"
    },
    "collapsed": false
   },
   "outputs": [],
   "source": [
    "print('arr2数组类型为:',arr2.dtype)  #查看数组类型\n",
    "print('arr2数组元素个数为:',arr2.size)  #查看数组元素个数\n",
    "\n",
    "# 查看数组每个元素大小，即占用的字节数量\n",
    "print('arr2数组每个元素大小为:',arr2.itemsize)\n",
    "print('arr2数组的形状为:',arr2.shape)# shape属性返回数组的行数和列数\n",
    "\n",
    "# 重新设置shape为5行3列\n",
    "arr2.shape = 5,3 \n",
    "print('重新设置shape 后的arr2 为:\\n',arr2)\n",
    "# 也可使用reshape函数改变数组形状为3行5列\n",
    "print('使用reshape(3,5)函数改变arr2数组为:\\n',arr2.reshape(3,5))"
   ]
  },
  {
   "cell_type": "code",
   "execution_count": null,
   "id": "f7b49ba5e889e282",
   "metadata": {
    "ExecuteTime": {
     "end_time": "2024-05-06T09:49:33.770134500Z",
     "start_time": "2024-05-06T09:49:33.675257100Z"
    },
    "collapsed": false
   },
   "outputs": [],
   "source": [
    "#产生起始值为0，终止值为10（不包含10），步长为1的等差数列\n",
    "print('使用arange函数创建的等差数组为:\\n',np.arange(0,10,1))\n",
    "\n",
    "#产生起始值1、终止值100之间并包含它们的10个元素等差数组，自动计算步长值\n",
    "print('使用linspace函数创建的等差数组为:',np.linspace(1, 100, 10))\n",
    "\n",
    "# 产生起始值为10的0次幂、终止值为10的2次幂之间， \n",
    "#并包含它们的10个元素等比数列，自动计算步长值\n",
    "print('使用logspace函数创建的等比数组为:\\n',np.logspace(0, 2, 10))\n",
    "\n",
    "#创建3行4列全零数组\n",
    "print('使用zeros函数创建的全零数组为:\\n',np.zeros((3,4)))\n",
    "\n",
    "#创建对角线元素值全为1，其它元素值全为0，类似单位矩阵的数组\n",
    "print('使用eye函数创建的类似单位矩阵数组为:\\n',np.eye(3))\n",
    "\n",
    "#创建对角线元素赋值，其它元素值全为0的数组\n",
    "print('使用diag函数创建的数组为:\\n',np.diag([1,2,3]))\n",
    "\n",
    "#创建元素值全为1的数组\n",
    "print('使用ones函数创建的数组为:\\n',np.ones((3,4)))\n",
    "\n",
    "#生成[0.0, 1.0)区间连续均匀分布的10个随机数\n",
    "print('生成的随机数组为:',np.random.random(10))\n",
    "\n",
    "#生成[0.0, 1.0)区间均匀分布的3行5列随机数\n",
    "print('生成的随机数组为:\\n',np.random.rand(3,5))\n",
    "\n",
    "#生成3行5列标准正态分布的随机数 rand 随机 normal\n",
    "print('生成的随机数组为:\\n',np.random.randn(3,5))\n",
    "\n",
    "#生成起始值1到终止值10之间，包含起始值2不包含终止值10，\n",
    "#3行5列、离散均匀分布的随机整数\n",
    "print('生成的随机数组为:\\n',np.random.randint(1,10,size = [3,5]))"
   ]
  },
  {
   "cell_type": "markdown",
   "id": "687a6ec7",
   "metadata": {},
   "source": [
    "#### 3. 数组索引"
   ]
  },
  {
   "cell_type": "code",
   "execution_count": 7,
   "id": "2e36d7bf833c5418",
   "metadata": {
    "ExecuteTime": {
     "end_time": "2024-05-06T09:49:33.770134500Z",
     "start_time": "2024-05-06T09:49:33.738440600Z"
    },
    "collapsed": false
   },
   "outputs": [
    {
     "name": "stdout",
     "output_type": "stream",
     "text": [
      "数组arr为: [0 1 2 3 4 5 6 7 8 9]\n",
      "arr[6]的值为: 6\n",
      "arr[2:6](不包括arr[6])的值为: [2 3 4 5]\n",
      "arr[0:7](不包括arr[7])的值为: [0 1 2 3 4 5 6]\n",
      "arr[-1]表示数组的倒数第一个元素为为: 9\n"
     ]
    }
   ],
   "source": [
    "arr = np.arange(10)\n",
    "print('数组arr为:',arr)\n",
    "\n",
    "print('arr[6]的值为:',arr[6])#用[n]获取数组中的某个元素,n从0开始\n",
    "\n",
    "#用范围作为下标获取一维数组的一个切片\n",
    "print('arr[2:6](不包括arr[6])的值为:',arr[2:6])#包括arr[2]不包括arr[6]\n",
    "print('arr[0:7](不包括arr[7])的值为:',arr[:7])#省略开始下标，表示从arr[0]开始\n",
    "\n",
    "#下标-1表示从数组后往前数的第一个元素\n",
    "print('arr[-1]表示数组的倒数第一个元素为为:',arr[-1])"
   ]
  },
  {
   "cell_type": "code",
   "execution_count": 8,
   "id": "636448731e3db430",
   "metadata": {
    "ExecuteTime": {
     "end_time": "2024-05-06T09:49:33.966605900Z",
     "start_time": "2024-05-06T09:49:33.801835600Z"
    },
    "collapsed": false
   },
   "outputs": [
    {
     "name": "stdout",
     "output_type": "stream",
     "text": [
      "改变arr[3]的值后数组arr为: [ 0  1  2 30  4  5  6  7  8  9]\n",
      "改变arr[5:7]的值（不包含arr[7]）后数组arr为: [ 0  1  2 30  4 50 60  7  8  9]\n"
     ]
    }
   ],
   "source": [
    "arr[3] = 30#改变数组的某个元素值\n",
    "print('改变arr[3]的值后数组arr为:',arr)\n",
    "arr[5:7] = 50,60#改变数组连续位置的多个元素值，不包含arr[7]\n",
    "print('改变arr[5:7]的值后数组arr为:',arr)"
   ]
  },
  {
   "cell_type": "code",
   "execution_count": 9,
   "id": "9587195b7f6939dc",
   "metadata": {
    "ExecuteTime": {
     "end_time": "2024-05-06T09:49:33.966605900Z",
     "start_time": "2024-05-06T09:49:33.817754Z"
    },
    "collapsed": false
   },
   "outputs": [
    {
     "name": "stdout",
     "output_type": "stream",
     "text": [
      "从arr[0]开始每隔一个元素为: [ 0  2  4 60  8]\n",
      "从arr[9]开始每隔一个元素为: [ 9  7 50 30]\n"
     ]
    }
   ],
   "source": [
    "print('从arr[0]开始每隔一个元素为:',arr[0:-1:2])#每隔步长值2取一个元素(-1是最后一个)\n",
    "print('从arr[9]开始每隔一个元素为:',arr[9:1:-2])#步长为负数时，开始下标必须大于结束下标"
   ]
  },
  {
   "cell_type": "code",
   "execution_count": null,
   "id": "664c3f5ad6f6849d",
   "metadata": {
    "ExecuteTime": {
     "end_time": "2024-05-06T09:49:33.966605900Z",
     "start_time": "2024-05-06T09:49:33.833816900Z"
    },
    "collapsed": false
   },
   "outputs": [],
   "source": [
    "arr = np.arange(15).reshape(3,5)\n",
    "print('创建的二维数组为:\\n',arr)\n",
    "\n",
    "print('arr第0行2到4列的元素为:',arr[0,2:5])#索引第0行中第2到第4列的元素\n",
    "print('arr第1行的元素为:',arr[1,:])#索引整行元素\n",
    "print('arr第0-1行的元素为:\\n',arr[0:2,:])#索引连续多行整行元素\n",
    "print('arr第0-1列的元素为:\\n',arr[:,0:2])#索引连续多列整列元素\n",
    "\n",
    "#索引第1到第2行中第2列到第3列的元素\n",
    "print('第1到第2行中第2列到第3列的元素为:\\n',arr[1:,2:])\n",
    "print('第0行第2列的元素为:',arr[0,2])#索引单个元素\n",
    "\n",
    "#索引不同行列的多个元素，将其行索引号和列索引号分别组成两个序列\n",
    "#如arr[0,0], arr[1,1], arr[2,2]组成[(0,1,2),(0,1,2)]\n",
    "print('arr[0,0], arr[1,1], arr[2,2]为:',arr[[(0,1,2),(0,1,2)]])\n",
    "print('第0行第1、3列的元素为:\\n',arr[0:,(1,3)])#索引第0行中第1、3列的元素"
   ]
  },
  {
   "cell_type": "code",
   "execution_count": null,
   "id": "9c467e70bd9903ff",
   "metadata": {
    "ExecuteTime": {
     "end_time": "2024-05-06T09:49:33.976610300Z",
     "start_time": "2024-05-06T09:49:33.897091100Z"
    },
    "collapsed": false
   },
   "outputs": [],
   "source": [
    "#使用bool类型表示索引或不索引某行或列\n",
    "idx_bool = np.array([1,1,0],dtype = bool)\n",
    "#idx_bool是一个布尔数组，它索引第0、1行中第1列的元素，\n",
    "#bool数组的元素数量要等于被索引数组的行数（或列数）\n",
    "print('第0、1行中第1列的元素为:',arr[idx_bool,1])\n",
    "#idx_bool是一个布尔数组，它索引第0、1行中第0,4列的元素\n",
    "print('第0、1行中第0,4列的元素为:',arr[idx_bool,(0,3)])"
   ]
  },
  {
   "cell_type": "markdown",
   "id": "3ddee4e9",
   "metadata": {},
   "source": [
    "#### 4. 数组操作"
   ]
  },
  {
   "cell_type": "code",
   "execution_count": 4,
   "id": "1d6bef65b7469955",
   "metadata": {
    "ExecuteTime": {
     "end_time": "2024-05-06T09:49:34.157366900Z",
     "start_time": "2024-05-06T09:49:33.960909700Z"
    },
    "collapsed": false
   },
   "outputs": [
    {
     "name": "stdout",
     "output_type": "stream",
     "text": [
      "数组横向展平后为: [ 0  1  2  3  4  5  6  7  8  9 10 11]\n",
      "数组纵向展平后为: [ 0  1  2  3  4  5  6  7  8  9 10 11]\n"
     ]
    }
   ],
   "source": [
    "arr = np.arange(12)#创建一维数组\n",
    "print('数组横向展平后为:',arr.flatten())  #横向展平\n",
    "print('数组纵向展平后为:',arr.flatten('F'))  #纵向展平"
   ]
  },
  {
   "cell_type": "code",
   "execution_count": 7,
   "id": "6f2e2c87773a902",
   "metadata": {
    "ExecuteTime": {
     "end_time": "2024-05-06T09:49:34.173350200Z",
     "start_time": "2024-05-06T09:49:33.992633600Z"
    },
    "collapsed": false
   },
   "outputs": [
    {
     "name": "stdout",
     "output_type": "stream",
     "text": [
      "创建的数组1为:\n",
      " [[ 0  1  2  3  4]\n",
      " [ 5  6  7  8  9]\n",
      " [10 11 12 13 14]]\n",
      "创建的数组2为:\n",
      " [[ 0  2  4  6  8]\n",
      " [10 12 14 16 18]\n",
      " [20 22 24 26 28]]\n",
      "横向组合为:\n",
      " [[ 0  1  2  3  4  0  2  4  6  8]\n",
      " [ 5  6  7  8  9 10 12 14 16 18]\n",
      " [10 11 12 13 14 20 22 24 26 28]]\n",
      "纵向组合为:\n",
      " [[ 0  1  2  3  4]\n",
      " [ 5  6  7  8  9]\n",
      " [10 11 12 13 14]\n",
      " [ 0  2  4  6  8]\n",
      " [10 12 14 16 18]\n",
      " [20 22 24 26 28]]\n",
      "使用concatenate函数横向组合为:\n",
      " [[ 0  1  2  3  4  0  2  4  6  8]\n",
      " [ 5  6  7  8  9 10 12 14 16 18]\n",
      " [10 11 12 13 14 20 22 24 26 28]]\n",
      "使用concatenate函数纵向组合为:\n",
      " [[ 0  1  2  3  4]\n",
      " [ 5  6  7  8  9]\n",
      " [10 11 12 13 14]\n",
      " [ 0  2  4  6  8]\n",
      " [10 12 14 16 18]\n",
      " [20 22 24 26 28]]\n"
     ]
    }
   ],
   "source": [
    "arr1 = np.arange(15).reshape(3,5)\n",
    "print('创建的数组1为:\\n',arr1)\n",
    "arr2 = arr1*2\n",
    "print('创建的数组2为:\\n',arr2)\n",
    "\n",
    "arr_1h2=np.hstack((arr1,arr2))  #hstack函数横向组合\n",
    "print('横向组合为:\\n',arr_1h2)\n",
    "\n",
    "arr_1v2=np.vstack((arr1,arr2))  #vstack函数纵向组合\n",
    "print('纵向组合为:\\n',arr_1v2)\n",
    "\n",
    "#concatenate函数横向组合\n",
    "print('使用concatenate函数横向组合为:\\n',np.concatenate((arr1,arr2),axis = 1))  \n",
    "#concatenate函数纵向组合\n",
    "print('使用concatenate函数纵向组合为:\\n',np.concatenate((arr1,arr2),axis = 0))"
   ]
  },
  {
   "cell_type": "code",
   "execution_count": 8,
   "id": "91603337d7cae783",
   "metadata": {
    "ExecuteTime": {
     "end_time": "2024-05-06T09:49:34.189154700Z",
     "start_time": "2024-05-06T09:49:34.040821700Z"
    },
    "collapsed": false
   },
   "outputs": [
    {
     "name": "stdout",
     "output_type": "stream",
     "text": [
      "使用np.c_[]组合后的数组为:\n",
      " [[ 0  1  2  3  4  0  2  4  6  8]\n",
      " [ 5  6  7  8  9 10 12 14 16 18]\n",
      " [10 11 12 13 14 20 22 24 26 28]]\n",
      "创建的二维数组为:\n",
      " [[ 0  1  2  3  4  5]\n",
      " [ 6  7  8  9 10 11]\n",
      " [12 13 14 15 16 17]\n",
      " [18 19 20 21 22 23]]\n"
     ]
    }
   ],
   "source": [
    "arr=np.c_[arr1,arr2]\n",
    "print('使用np.c_[]组合后的数组为:\\n',arr)\n",
    "\n",
    "arr = np.arange(24).reshape(4,6)\n",
    "print('创建的二维数组为:\\n',arr)"
   ]
  },
  {
   "cell_type": "code",
   "execution_count": 9,
   "id": "769dfb370ad7c776",
   "metadata": {
    "ExecuteTime": {
     "end_time": "2024-05-06T09:49:34.189154700Z",
     "start_time": "2024-05-06T09:49:34.077686300Z"
    },
    "collapsed": false
   },
   "outputs": [
    {
     "name": "stdout",
     "output_type": "stream",
     "text": [
      "横向分割为: [array([[ 0,  1],\n",
      "       [ 6,  7],\n",
      "       [12, 13],\n",
      "       [18, 19]]), array([[ 2,  3],\n",
      "       [ 8,  9],\n",
      "       [14, 15],\n",
      "       [20, 21]]), array([[ 4,  5],\n",
      "       [10, 11],\n",
      "       [16, 17],\n",
      "       [22, 23]])]\n",
      "纵向分割为: [array([[ 0,  1,  2,  3,  4,  5],\n",
      "       [ 6,  7,  8,  9, 10, 11]]), array([[12, 13, 14, 15, 16, 17],\n",
      "       [18, 19, 20, 21, 22, 23]])]\n",
      "split横向分割为:\n",
      " [array([[ 0,  1,  2],\n",
      "       [ 6,  7,  8],\n",
      "       [12, 13, 14],\n",
      "       [18, 19, 20]]), array([[ 3,  4,  5],\n",
      "       [ 9, 10, 11],\n",
      "       [15, 16, 17],\n",
      "       [21, 22, 23]])]\n",
      "split纵向分割为:\n",
      " [array([[ 0,  1,  2,  3,  4,  5],\n",
      "       [ 6,  7,  8,  9, 10, 11]]), array([[12, 13, 14, 15, 16, 17],\n",
      "       [18, 19, 20, 21, 22, 23]])]\n"
     ]
    }
   ],
   "source": [
    "print('横向分割为:', np.hsplit(arr, 3))  #hsplit函数横向平均分割为3个\n",
    "print('纵向分割为:', np.vsplit(arr, 2))  #vsplit函数纵向平均分割为2个\n",
    "#split函数横向平均分割为2个\n",
    "print('split横向分割为:\\n', np.split(arr, 2, axis=1))\n",
    "#split函数纵向平均分割为2个\n",
    "print('split纵向分割为:\\n', np.split(arr, 2, axis=0))"
   ]
  },
  {
   "cell_type": "code",
   "execution_count": null,
   "id": "7199532121464300",
   "metadata": {
    "ExecuteTime": {
     "end_time": "2024-05-06T09:49:34.189154700Z",
     "start_time": "2024-05-06T09:49:34.093811600Z"
    },
    "collapsed": false
   },
   "outputs": [],
   "source": [
    "arr1,arr2=np.split(arr, 2, axis=0)#获得分割后的子数组\n",
    "print('分割后生成的arr1为:\\n',arr1)\n",
    "print('分割后生成的arr2为:\\n',arr2)"
   ]
  },
  {
   "cell_type": "markdown",
   "id": "c7762a24",
   "metadata": {},
   "source": [
    "#### 5. 数组运算"
   ]
  },
  {
   "cell_type": "code",
   "execution_count": null,
   "id": "737b06f5c823f62b",
   "metadata": {
    "ExecuteTime": {
     "end_time": "2024-05-06T09:49:34.189154700Z",
     "start_time": "2024-05-06T09:49:34.125649600Z"
    },
    "collapsed": false
   },
   "outputs": [],
   "source": [
    "arr1 = np.arange(1, 13, 1).reshape(3, 4)\n",
    "print('数组arr1为:\\n', arr1)\n",
    "\n",
    "arr2 = arr1 * 2\n",
    "print('数组乘以常数为:\\n', arr2)  #数组乘以常数，每个元素乘以该常数\n",
    "print('数组相加结果为:\\n', arr1 + arr2)  #数组相加，对应位置每个元素相加\n",
    "print('数组相减结果为:\\n', arr1 - arr2)  #数组相减，对应位置每个元素相减\n",
    "print('数组相乘结果为:\\n', arr1 * arr2)  #数组相乘，对应位置每个元素相乘\n",
    "print('数组相除结果为:\\n', arr1 / arr2)  #数组相除，对应位置每个元素相除"
   ]
  },
  {
   "cell_type": "code",
   "execution_count": null,
   "id": "25138ac7c455dd56",
   "metadata": {
    "ExecuteTime": {
     "end_time": "2024-05-06T09:49:34.189154700Z",
     "start_time": "2024-05-06T09:49:34.141744400Z"
    },
    "collapsed": false
   },
   "outputs": [],
   "source": [
    "#数组幂运算，对应位置每个元素相幂，为避免结果过大超出范围，将arr2/10\n",
    "print('数组幂运算结果为:\\n', arr1 ** (arr2 / 10))"
   ]
  },
  {
   "cell_type": "markdown",
   "id": "f2abfdf933bbbd87",
   "metadata": {
    "collapsed": false
   },
   "source": []
  }
 ],
 "metadata": {
  "kernelspec": {
   "display_name": "Python 3",
   "language": "python",
   "name": "python3"
  },
  "language_info": {
   "codemirror_mode": {
    "name": "ipython",
    "version": 3
   },
   "file_extension": ".py",
   "mimetype": "text/x-python",
   "name": "python",
   "nbconvert_exporter": "python",
   "pygments_lexer": "ipython3",
   "version": "3.8.19"
  }
 },
 "nbformat": 4,
 "nbformat_minor": 5
}
